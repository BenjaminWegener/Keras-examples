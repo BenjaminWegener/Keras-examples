{
  "nbformat": 4,
  "nbformat_minor": 0,
  "metadata": {
    "accelerator": "GPU",
    "colab": {
      "name": "deblurring.ipynb",
      "provenance": [],
      "collapsed_sections": [],
      "toc_visible": true,
      "machine_shape": "hm"
    },
    "kernelspec": {
      "name": "python3",
      "display_name": "Python 3"
    },
    "language_info": {
      "codemirror_mode": {
        "name": "ipython",
        "version": 3
      },
      "file_extension": ".py",
      "mimetype": "text/x-python",
      "name": "python",
      "nbconvert_exporter": "python",
      "pygments_lexer": "ipython3",
      "version": "3.7.4"
    }
  },
  "cells": [
    {
      "cell_type": "markdown",
      "metadata": {
        "colab_type": "text",
        "id": "Y52zwvlpHvCC"
      },
      "source": [
        "## deblurring\n",
        "repairing images motion blur\n",
        "- channel attention mechanism [[paper]](https://arxiv.org/abs/1807.02758)\n",
        "- residual in residual architecture [[paper]](https://arxiv.org/abs/1505.04597)\n",
        "- subpixel convolution / pixelshuffle [[paper]](https://arxiv.org/abs/1609.05158)\n",
        "- running on [tensorflow/google colab](https://colab.research.google.com/) AND on [plaidml](https://www.intel.ai/plaidml/)\n",
        "- using the famous [Set14](https://www.google.com/search?q=set14) dataset ONLY (with heavy augmentation) - no validation needed\n",
        "\n",
        "jupyter notebook by [Benjamin Wegener](https://scholar.google.de/citations?user=yEn9St8AAAAJ) from [github](https://www.github.com/BenjaminWegener/keras-examples)"
      ]
    },
    {
      "cell_type": "markdown",
      "metadata": {
        "colab_type": "text",
        "id": "s-U33BDYHvCF"
      },
      "source": [
        "### options\n"
      ]
    },
    {
      "cell_type": "code",
      "metadata": {
        "colab_type": "code",
        "id": "bDQFzxuJHvCH",
        "colab": {}
      },
      "source": [
        "run_on_google_colab = True #use PlaidML as Backend, change this to 'True' to run on colab/tf\n",
        "epochs = 250 #Number of epochs to train\n",
        "channels = 3 #channels of low resolution image\n",
        "batch_size = 14 #what batch-size should we use (decrease if you encounter video memory errors)\n",
        "steps_per_epoch = 1000 #How much iterations per epoch to train\n",
        "height_lr = 256 #height of low resolution image (must be dividable by 4)\n",
        "width_lr = height_lr #width of low resolution image (must be dividable by 4)\n",
        "gen_lr = 0.001 #learning rate of generator\n",
        "logging_steps = 50 #how often to update the training log\n",
        "rotation_max = 0.33 # max max degree of rotation\n",
        "max_move = height_lr / 100 #how much pixels to shift the blurred image\n",
        "blur_copies = 5 # how many copies of image to generate and merge back together"
      ],
      "execution_count": 0,
      "outputs": []
    },
    {
      "cell_type": "markdown",
      "metadata": {
        "colab_type": "text",
        "id": "GzyzlkF3HvCL"
      },
      "source": [
        "### imports"
      ]
    },
    {
      "cell_type": "code",
      "metadata": {
        "colab_type": "code",
        "id": "v78MsA4CHvCM",
        "outputId": "55545f87-9a09-450a-a202-1bb3c5e70fbb",
        "colab": {
          "base_uri": "https://localhost:8080/",
          "height": 67
        }
      },
      "source": [
        "import os\n",
        "if run_on_google_colab:\n",
        "    %cd /content\n",
        "    !git clone https://github.com/BenjaminWegener/keras-examples #download Dataset\n",
        "    %cd keras-examples\n",
        "else:\n",
        "    os.environ['KERAS_BACKEND'] = 'plaidml.keras.backend'\n",
        "import numpy as np\n",
        "from keras.models import Model, Input, load_model\n",
        "from keras.layers import *\n",
        "from keras.optimizers import Adam\n",
        "from keras import backend as K\n",
        "from keras.callbacks import LambdaCallback\n",
        "from IPython.display import clear_output\n",
        "import matplotlib.pyplot as plt\n",
        "from keras.preprocessing.image import ImageDataGenerator\n",
        "import random\n",
        "from scipy.ndimage import rotate, shift\n",
        "%matplotlib inline    "
      ],
      "execution_count": 9,
      "outputs": [
        {
          "output_type": "stream",
          "text": [
            "/content\n",
            "fatal: destination path 'keras-examples' already exists and is not an empty directory.\n",
            "/content/keras-examples\n"
          ],
          "name": "stdout"
        }
      ]
    },
    {
      "cell_type": "markdown",
      "metadata": {
        "colab_type": "text",
        "id": "QsOYTVq4KpRZ"
      },
      "source": [
        "### function for image visualization"
      ]
    },
    {
      "cell_type": "code",
      "metadata": {
        "colab_type": "code",
        "id": "Ygs-7DxwHvCS",
        "colab": {}
      },
      "source": [
        "def show(tensors):\n",
        "    plt.rcParams['figure.figsize'] = [20, 10]\n",
        "    fig = plt.figure()\n",
        "    for i in range(len(tensors)):\n",
        "        try:\n",
        "            tensors[i] = np.squeeze(tensors[i], axis = 0)\n",
        "        except:\n",
        "            pass\n",
        "        tensors[i] = (tensors[i] + 1.) * 127.5\n",
        "        fig.add_subplot(1,len(tensors), i + 1)\n",
        "        plt.imshow(tensors[i].astype(np.uint8), interpolation = 'nearest')\n",
        "    plt.setp(plt.gcf().get_axes(), xticks=[], yticks=[]);\n",
        "    plt.show()"
      ],
      "execution_count": 0,
      "outputs": []
    },
    {
      "cell_type": "markdown",
      "metadata": {
        "colab_type": "text",
        "id": "SJi-rBgoHvCU"
      },
      "source": [
        "### dataset function"
      ]
    },
    {
      "cell_type": "code",
      "metadata": {
        "colab_type": "code",
        "id": "m5lxEgg6HvCV",
        "colab": {}
      },
      "source": [
        "# return batch of augmented train and target images with quantity n_samples\n",
        "def get_batch(n_samples, height, width, channels):\n",
        "    # define a ImageGenerator instance from keras with augmentations\n",
        "    image_gen = ImageDataGenerator(rotation_range=360,\n",
        "                           width_shift_range=0.5,\n",
        "                           height_shift_range=0.5,\n",
        "                           zoom_range=[0.2, 0.7],\n",
        "                           horizontal_flip=True,\n",
        "                           vertical_flip=True,\n",
        "                           fill_mode='reflect',\n",
        "                           data_format='channels_last',\n",
        "                           brightness_range=[0.5, 1.5])\n",
        "    #seed for random augmentations\n",
        "    random_seed = int(random.random() * 100000)\n",
        "    #generate augmented images\n",
        "    y_train = image_gen.flow_from_directory('.', target_size = (height, width), batch_size = n_samples, class_mode = None, seed = random_seed)\n",
        "    y_train = y_train.__getitem__(0).copy() #fix for 'array doesn't own its data'\n",
        "    x_train = y_train.copy()\n",
        "    for i in range(n_samples):\n",
        "        # source images are blurred (slightly rotated, moved and merged together)\n",
        "        copy = x_train[i].copy()\n",
        "        counter = 1\n",
        "        for j in range(blur_copies):\n",
        "            if (random.random() * 2 > 1) or (j == 1): #50% chance to make more than one copy\n",
        "                rotation_angle = random.random() * rotation_max / 2 + rotation_max #minimum ratation is the half of maximum rotation\n",
        "                copy = rotate(copy, rotation_angle, reshape=False, order=5, mode='reflect')\n",
        "                move_amount_x = int(random.random() * max_move + 1) * 2 #allow for negative values\n",
        "                move_amount_x = move_amount_x - move_amount_x / 2\n",
        "                move_amount_y = int(random.random() * max_move + 1) * 2\n",
        "                move_amount_y = move_amount_y - move_amount_y / 2\n",
        "                copy = shift(copy, [move_amount_x, move_amount_y, 0], order=5, mode='reflect')\n",
        "                counter = counter + 1\n",
        "                x_train[i] = (1 - 1 / counter) * x_train[i] + 1 / counter * copy #blend back together\n",
        "        x_train[i] = np.clip(x_train[i], 0, 255)\n",
        "    #normalize images to [-1, 1]\n",
        "    x_train = x_train/127.5 - 1.\n",
        "    y_train = y_train/127.5 - 1.\n",
        "    return x_train, y_train"
      ],
      "execution_count": 0,
      "outputs": []
    },
    {
      "cell_type": "markdown",
      "metadata": {
        "colab_type": "text",
        "id": "A9P-WqYbHvCX"
      },
      "source": [
        "### base functions"
      ]
    },
    {
      "cell_type": "code",
      "metadata": {
        "colab_type": "code",
        "id": "tdeUTBRaHvCY",
        "colab": {}
      },
      "source": [
        "def fast_normalization(x): # use clipping instead of batchnormalization for network stabilization\n",
        "    return Lambda(lambda x: K.clip(x, -1, 1), output_shape=lambda s: (s[0], s[1], s[2], s[3]))(x)\n",
        "\n",
        "def residual_block(inputs): #combined pixel shuffle and squeeze\n",
        "    x = inputs\n",
        "    x = Conv2D(32, kernel_size = 9, activation = 'tanh', padding = 'same', strides = 2)(x)\n",
        "    x = SeparableConv2D(128, kernel_size = 9, activation = 'tanh', padding = 'same')(x) # rapidly increase speed at slightly worse results\n",
        "    x = fast_normalization(x)\n",
        "    x = Lambda(lambda x: K.reshape(x, (K.shape(x)[0], K.shape(x)[1], K.shape(x)[2], 32, 2, 2)), output_shape = lambda s: (s[0], s[1], s[2], s[3] // 4, 2, 2))(x)\n",
        "    x = Permute((3, 2, 4, 1, 5))(x)\n",
        "    x = Lambda(lambda x: K.reshape(x, (K.shape(x)[0], K.shape(x)[1], K.shape(x)[2] * K.shape(x)[3], K.shape(x)[4] * K.shape(x)[5])), output_shape = lambda s: (s[0], s[1], s[2] * s[3], s[4] * s[5]))(x)\n",
        "    x = Permute((3, 2, 1))(x)\n",
        "    #---\n",
        "    x1 = x\n",
        "    x = GlobalAveragePooling2D()(x)\n",
        "    x = Dense(8, activation = 'relu')(x) #reduction like in RCAN \n",
        "    x = Dense(32, activation = 'hard_sigmoid')(x)\n",
        "    x = Reshape((1, 1, 32))(x)\n",
        "    x = Multiply()([x1, x])\n",
        "    x = Add()([inputs, x]) \n",
        "    return x"
      ],
      "execution_count": 0,
      "outputs": []
    },
    {
      "cell_type": "markdown",
      "metadata": {
        "colab_type": "text",
        "id": "Gvy5AbKwHvCi"
      },
      "source": [
        "### build generator model"
      ]
    },
    {
      "cell_type": "code",
      "metadata": {
        "colab_type": "code",
        "id": "SKFcfdh_HvCf",
        "outputId": "2bb99668-6eb8-49c5-aae2-2ead416be9e6",
        "scrolled": true,
        "colab": {
          "base_uri": "https://localhost:8080/",
          "height": 1000
        }
      },
      "source": [
        "x = inputs = Input(shape = (height_lr, width_lr, channels))\n",
        "x = Conv2D(32, kernel_size = 3, padding = 'same', activation = 'tanh')(x)\n",
        "x = residual_block(x)\n",
        "x = residual_block(x)\n",
        "x = residual_block(x)\n",
        "x = residual_block(x)\n",
        "x = Conv2D(3, kernel_size = 3, padding = 'same', activation = 'tanh')(x)\n",
        "x = fast_normalization(x)\n",
        "\n",
        "generator = Model(inputs = inputs, outputs = x)\n",
        "generator.summary()"
      ],
      "execution_count": 13,
      "outputs": [
        {
          "output_type": "stream",
          "text": [
            "Model: \"model_2\"\n",
            "__________________________________________________________________________________________________\n",
            "Layer (type)                    Output Shape         Param #     Connected to                     \n",
            "==================================================================================================\n",
            "input_2 (InputLayer)            (None, 256, 256, 3)  0                                            \n",
            "__________________________________________________________________________________________________\n",
            "conv2d_7 (Conv2D)               (None, 256, 256, 32) 896         input_2[0][0]                    \n",
            "__________________________________________________________________________________________________\n",
            "conv2d_8 (Conv2D)               (None, 128, 128, 32) 82976       conv2d_7[0][0]                   \n",
            "__________________________________________________________________________________________________\n",
            "separable_conv2d_5 (SeparableCo (None, 128, 128, 128 6816        conv2d_8[0][0]                   \n",
            "__________________________________________________________________________________________________\n",
            "lambda_14 (Lambda)              (None, 128, 128, 128 0           separable_conv2d_5[0][0]         \n",
            "__________________________________________________________________________________________________\n",
            "lambda_15 (Lambda)              (None, 128, 128, 32, 0           lambda_14[0][0]                  \n",
            "__________________________________________________________________________________________________\n",
            "permute_9 (Permute)             (None, 32, 128, 2, 1 0           lambda_15[0][0]                  \n",
            "__________________________________________________________________________________________________\n",
            "lambda_16 (Lambda)              (None, 32, 256, 256) 0           permute_9[0][0]                  \n",
            "__________________________________________________________________________________________________\n",
            "permute_10 (Permute)            (None, 256, 256, 32) 0           lambda_16[0][0]                  \n",
            "__________________________________________________________________________________________________\n",
            "global_average_pooling2d_5 (Glo (None, 32)           0           permute_10[0][0]                 \n",
            "__________________________________________________________________________________________________\n",
            "dense_9 (Dense)                 (None, 8)            264         global_average_pooling2d_5[0][0] \n",
            "__________________________________________________________________________________________________\n",
            "dense_10 (Dense)                (None, 32)           288         dense_9[0][0]                    \n",
            "__________________________________________________________________________________________________\n",
            "reshape_5 (Reshape)             (None, 1, 1, 32)     0           dense_10[0][0]                   \n",
            "__________________________________________________________________________________________________\n",
            "multiply_5 (Multiply)           (None, 256, 256, 32) 0           permute_10[0][0]                 \n",
            "                                                                 reshape_5[0][0]                  \n",
            "__________________________________________________________________________________________________\n",
            "add_5 (Add)                     (None, 256, 256, 32) 0           conv2d_7[0][0]                   \n",
            "                                                                 multiply_5[0][0]                 \n",
            "__________________________________________________________________________________________________\n",
            "conv2d_9 (Conv2D)               (None, 128, 128, 32) 82976       add_5[0][0]                      \n",
            "__________________________________________________________________________________________________\n",
            "separable_conv2d_6 (SeparableCo (None, 128, 128, 128 6816        conv2d_9[0][0]                   \n",
            "__________________________________________________________________________________________________\n",
            "lambda_17 (Lambda)              (None, 128, 128, 128 0           separable_conv2d_6[0][0]         \n",
            "__________________________________________________________________________________________________\n",
            "lambda_18 (Lambda)              (None, 128, 128, 32, 0           lambda_17[0][0]                  \n",
            "__________________________________________________________________________________________________\n",
            "permute_11 (Permute)            (None, 32, 128, 2, 1 0           lambda_18[0][0]                  \n",
            "__________________________________________________________________________________________________\n",
            "lambda_19 (Lambda)              (None, 32, 256, 256) 0           permute_11[0][0]                 \n",
            "__________________________________________________________________________________________________\n",
            "permute_12 (Permute)            (None, 256, 256, 32) 0           lambda_19[0][0]                  \n",
            "__________________________________________________________________________________________________\n",
            "global_average_pooling2d_6 (Glo (None, 32)           0           permute_12[0][0]                 \n",
            "__________________________________________________________________________________________________\n",
            "dense_11 (Dense)                (None, 8)            264         global_average_pooling2d_6[0][0] \n",
            "__________________________________________________________________________________________________\n",
            "dense_12 (Dense)                (None, 32)           288         dense_11[0][0]                   \n",
            "__________________________________________________________________________________________________\n",
            "reshape_6 (Reshape)             (None, 1, 1, 32)     0           dense_12[0][0]                   \n",
            "__________________________________________________________________________________________________\n",
            "multiply_6 (Multiply)           (None, 256, 256, 32) 0           permute_12[0][0]                 \n",
            "                                                                 reshape_6[0][0]                  \n",
            "__________________________________________________________________________________________________\n",
            "add_6 (Add)                     (None, 256, 256, 32) 0           add_5[0][0]                      \n",
            "                                                                 multiply_6[0][0]                 \n",
            "__________________________________________________________________________________________________\n",
            "conv2d_10 (Conv2D)              (None, 128, 128, 32) 82976       add_6[0][0]                      \n",
            "__________________________________________________________________________________________________\n",
            "separable_conv2d_7 (SeparableCo (None, 128, 128, 128 6816        conv2d_10[0][0]                  \n",
            "__________________________________________________________________________________________________\n",
            "lambda_20 (Lambda)              (None, 128, 128, 128 0           separable_conv2d_7[0][0]         \n",
            "__________________________________________________________________________________________________\n",
            "lambda_21 (Lambda)              (None, 128, 128, 32, 0           lambda_20[0][0]                  \n",
            "__________________________________________________________________________________________________\n",
            "permute_13 (Permute)            (None, 32, 128, 2, 1 0           lambda_21[0][0]                  \n",
            "__________________________________________________________________________________________________\n",
            "lambda_22 (Lambda)              (None, 32, 256, 256) 0           permute_13[0][0]                 \n",
            "__________________________________________________________________________________________________\n",
            "permute_14 (Permute)            (None, 256, 256, 32) 0           lambda_22[0][0]                  \n",
            "__________________________________________________________________________________________________\n",
            "global_average_pooling2d_7 (Glo (None, 32)           0           permute_14[0][0]                 \n",
            "__________________________________________________________________________________________________\n",
            "dense_13 (Dense)                (None, 8)            264         global_average_pooling2d_7[0][0] \n",
            "__________________________________________________________________________________________________\n",
            "dense_14 (Dense)                (None, 32)           288         dense_13[0][0]                   \n",
            "__________________________________________________________________________________________________\n",
            "reshape_7 (Reshape)             (None, 1, 1, 32)     0           dense_14[0][0]                   \n",
            "__________________________________________________________________________________________________\n",
            "multiply_7 (Multiply)           (None, 256, 256, 32) 0           permute_14[0][0]                 \n",
            "                                                                 reshape_7[0][0]                  \n",
            "__________________________________________________________________________________________________\n",
            "add_7 (Add)                     (None, 256, 256, 32) 0           add_6[0][0]                      \n",
            "                                                                 multiply_7[0][0]                 \n",
            "__________________________________________________________________________________________________\n",
            "conv2d_11 (Conv2D)              (None, 128, 128, 32) 82976       add_7[0][0]                      \n",
            "__________________________________________________________________________________________________\n",
            "separable_conv2d_8 (SeparableCo (None, 128, 128, 128 6816        conv2d_11[0][0]                  \n",
            "__________________________________________________________________________________________________\n",
            "lambda_23 (Lambda)              (None, 128, 128, 128 0           separable_conv2d_8[0][0]         \n",
            "__________________________________________________________________________________________________\n",
            "lambda_24 (Lambda)              (None, 128, 128, 32, 0           lambda_23[0][0]                  \n",
            "__________________________________________________________________________________________________\n",
            "permute_15 (Permute)            (None, 32, 128, 2, 1 0           lambda_24[0][0]                  \n",
            "__________________________________________________________________________________________________\n",
            "lambda_25 (Lambda)              (None, 32, 256, 256) 0           permute_15[0][0]                 \n",
            "__________________________________________________________________________________________________\n",
            "permute_16 (Permute)            (None, 256, 256, 32) 0           lambda_25[0][0]                  \n",
            "__________________________________________________________________________________________________\n",
            "global_average_pooling2d_8 (Glo (None, 32)           0           permute_16[0][0]                 \n",
            "__________________________________________________________________________________________________\n",
            "dense_15 (Dense)                (None, 8)            264         global_average_pooling2d_8[0][0] \n",
            "__________________________________________________________________________________________________\n",
            "dense_16 (Dense)                (None, 32)           288         dense_15[0][0]                   \n",
            "__________________________________________________________________________________________________\n",
            "reshape_8 (Reshape)             (None, 1, 1, 32)     0           dense_16[0][0]                   \n",
            "__________________________________________________________________________________________________\n",
            "multiply_8 (Multiply)           (None, 256, 256, 32) 0           permute_16[0][0]                 \n",
            "                                                                 reshape_8[0][0]                  \n",
            "__________________________________________________________________________________________________\n",
            "add_8 (Add)                     (None, 256, 256, 32) 0           add_7[0][0]                      \n",
            "                                                                 multiply_8[0][0]                 \n",
            "__________________________________________________________________________________________________\n",
            "conv2d_12 (Conv2D)              (None, 256, 256, 3)  867         add_8[0][0]                      \n",
            "__________________________________________________________________________________________________\n",
            "lambda_26 (Lambda)              (None, 256, 256, 3)  0           conv2d_12[0][0]                  \n",
            "==================================================================================================\n",
            "Total params: 363,139\n",
            "Trainable params: 363,139\n",
            "Non-trainable params: 0\n",
            "__________________________________________________________________________________________________\n"
          ],
          "name": "stdout"
        }
      ]
    },
    {
      "cell_type": "markdown",
      "metadata": {
        "colab_type": "text",
        "id": "EmBC-aMQHvCk"
      },
      "source": [
        "### train"
      ]
    },
    {
      "cell_type": "code",
      "metadata": {
        "colab_type": "code",
        "id": "hkYfqMpN2MIQ",
        "scrolled": false,
        "colab": {}
      },
      "source": [
        "#load checkpoint & compile the generator network\n",
        "print('trying to load last saved weights...', end = ' ')\n",
        "try:\n",
        "    generator.load_weights('deblurring_weights')\n",
        "    print('success.')\n",
        "except:\n",
        "    print('failed')\n",
        "    pass\n",
        "\n",
        "generator.compile(optimizer = Adam(gen_lr), loss = 'mae')\n",
        "\n",
        "# Train generator\n",
        "def logging(epoch, logs):\n",
        "    if epoch % logging_steps == 0:\n",
        "        testX, testY = get_batch(1, height_lr, width_lr, channels)\n",
        "        clear_output()\n",
        "        print('epoch', real_epoch + 1, '/', epochs, '--> step', epoch, '/', steps_per_epoch, ': loss', logs['loss'])\n",
        "        testZ = generator.predict(testX)\n",
        "        show([testX, testZ, testY])\n",
        "        print('test_loss:', generator.evaluate(testX, testY, verbose = 0))\n",
        "logging_callback = LambdaCallback(\n",
        "    on_epoch_end=lambda epoch, logs: logging(epoch, logs)\n",
        ")\n",
        "for real_epoch in range(epochs):\n",
        "    X, Y = get_batch(batch_size, height_lr, width_lr, channels)\n",
        "    generator.fit(X, Y, batch_size, epochs = steps_per_epoch, verbose = 0, callbacks = [logging_callback], shuffle = True)\n",
        "    try:\n",
        "        print('trying to save weights...', end = ' ')\n",
        "        generator.save_weights('deblurring_weights')\n",
        "        print('success.')\n",
        "    except:\n",
        "        print('failed.')"
      ],
      "execution_count": 0,
      "outputs": []
    },
    {
      "cell_type": "markdown",
      "metadata": {
        "colab_type": "text",
        "id": "xo-_GBp6NE8s"
      },
      "source": [
        "### validate on complete picture"
      ]
    },
    {
      "cell_type": "markdown",
      "metadata": {
        "id": "nGLX-J7rxLD5",
        "colab_type": "text"
      },
      "source": [
        ""
      ]
    },
    {
      "cell_type": "code",
      "metadata": {
        "colab_type": "code",
        "id": "XzRnnhw6fRkH",
        "colab": {}
      },
      "source": [
        "from PIL import Image\n",
        "testY = np.array(Image.open('./Set14/lenna.png'))\n",
        "testX = testY.copy()\n",
        "height = testX.shape[0]\n",
        "width = testX.shape[1]\n",
        "max_move = height / 100\n",
        "# source image distortion wirth motionblur\n",
        "copy = testX.copy()\n",
        "counter = 1\n",
        "for j in range(blur_copies):\n",
        "    if (random.random() * 2 > 1) or (j == 1): #50% chance to make more than one copy\n",
        "        rotation_angle = random.random() * rotation_max / 2 + rotation_max #minimum ratation is the half of maximum rotation\n",
        "        copy = rotate(copy, rotation_angle, reshape=False, order=5, mode='reflect')\n",
        "        move_amount_x = int(random.random() * max_move + 1) * 2 #allow for negative values\n",
        "        move_amount_x = move_amount_x - move_amount_x / 2\n",
        "        move_amount_y = int(random.random() * max_move + 1) * 2\n",
        "        move_amount_y = move_amount_y - move_amount_y / 2\n",
        "        copy = shift(copy, [move_amount_x, move_amount_y, 0], order=5, mode='reflect')\n",
        "        counter = counter + 1\n",
        "        testX = (1 - 1 / counter) * testX + 1 / counter * copy #blend back together\n",
        "testX = np.clip(testX, 0, 255)\n",
        "testX = testX /127.5 - 1\n",
        "testY = testY /127.5 - 1\n",
        "x = inputs = Input(shape = testX.shape)\n",
        "x = Conv2D(32, kernel_size = 3, padding = 'same', activation = 'tanh')(x)\n",
        "x = residual_block(x)\n",
        "x = residual_block(x)\n",
        "x = residual_block(x)\n",
        "x = residual_block(x)\n",
        "x = Conv2D(3, kernel_size = 3, padding = 'same', activation = 'tanh')(x)\n",
        "x = fast_normalization(x)\n",
        "generator = Model(inputs = inputs, outputs = x)\n",
        "print('trying to load last saved weights...', end = ' ')\n",
        "try:\n",
        "    generator.load_weights('deblurring_weights')\n",
        "    print('success.')\n",
        "except:\n",
        "    print('failed')\n",
        "    pass\n",
        "predicted = generator.predict(np.expand_dims((testX), 0))\n",
        "show([testX, predicted, testY])\n",
        "predicted = np.squeeze(predicted)\n",
        "predicted = Image.fromarray(((predicted + 1) * 127.5).astype(np.uint8))\n",
        "\n",
        "print('trying to save image as \\'debluring_result.png\\'...', end = ' ')\n",
        "try:\n",
        "    predicted.save('debluring_result.png', \"PNG\")\n",
        "    print('success.')\n",
        "except:\n",
        "    print('failed.')\n",
        "    pass"
      ],
      "execution_count": 0,
      "outputs": []
    }
  ]
}
